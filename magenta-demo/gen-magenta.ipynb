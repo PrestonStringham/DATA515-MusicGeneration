{
 "cells": [
  {
   "cell_type": "markdown",
   "metadata": {},
   "source": [
    "The following code is adapted from:\n",
    "\n",
    "https://github.com/magenta/magenta/blob/master/magenta/models/melody_rnn/melody_rnn_generate.py\n"
   ]
  },
  {
   "cell_type": "code",
   "execution_count": 1,
   "metadata": {},
   "outputs": [],
   "source": [
    "import ast\n",
    "import os\n",
    "import time"
   ]
  },
  {
   "cell_type": "code",
   "execution_count": 2,
   "metadata": {},
   "outputs": [],
   "source": [
    "from magenta.models.melody_rnn import melody_rnn_config_flags\n",
    "from magenta.models.melody_rnn import melody_rnn_model\n",
    "from magenta.models.melody_rnn import melody_rnn_sequence_generator\n",
    "from magenta.models.shared import sequence_generator\n",
    "from magenta.models.shared import sequence_generator_bundle"
   ]
  },
  {
   "cell_type": "code",
   "execution_count": 3,
   "metadata": {},
   "outputs": [],
   "source": [
    "import note_seq\n",
    "from note_seq.protobuf import generator_pb2\n",
    "from note_seq.protobuf import music_pb2"
   ]
  },
  {
   "cell_type": "code",
   "execution_count": 4,
   "metadata": {},
   "outputs": [],
   "source": [
    "import tensorflow.compat.v1 as tf"
   ]
  },
  {
   "cell_type": "code",
   "execution_count": 5,
   "metadata": {},
   "outputs": [],
   "source": [
    "FLAGS = tf.app.flags.FLAGS"
   ]
  },
  {
   "cell_type": "markdown",
   "metadata": {},
   "source": [
    "You will need a bundle file (aka `.mag` file). I use `basic_rnn.mag`, which you can obtain at the following URL:\n",
    "\n",
    "http://download.magenta.tensorflow.org/models/basic_rnn.mag\n",
    "\n",
    "Set the BUNDLE constant to the path to the bundle file."
   ]
  },
  {
   "cell_type": "code",
   "execution_count": 6,
   "metadata": {},
   "outputs": [],
   "source": [
    "#\n",
    "# Constants \n",
    "#\n",
    "BUNDLE     = '/Users/carljparker/git/dss/data515-sw-design/project-data515/magenta/basic_rnn.mag'\n",
    "OUTPUT_DIR = '/Users/carljparker/git/dss/data515-sw-design/project-data515/magenta/'"
   ]
  },
  {
   "cell_type": "markdown",
   "metadata": {},
   "source": [
    "Get the bundle (`.mag`) file\n",
    "\n",
    "The original code incorporates the `.hparams` values, but I have commented out that line below. When we attempt to parse the `.hparams` we get an error, presumably because we are not running from the command line. Commenting out this line should be okay because the default for the `.hparams` values is nothing.\n",
    "\n",
    "The following print command shows you a description of each flag. I've included the description for `--hparams`.\n",
    "\n",
    "    print( tf.app.flags.FLAGS )\n",
    "\n",
    "    magenta.models.melody_rnn.melody_rnn_config_flags:\n",
    "    \n",
    "    --hparams: Comma-separated list of `name=value` pairs. For each pair, the\n",
    "        value of the hyperparameter named `name` is set to `value`. This mapping is\n",
    "        merged with the default hyperparameters.\n",
    "        (default: '')"
   ]
  },
  {
   "cell_type": "code",
   "execution_count": 7,
   "metadata": {},
   "outputs": [],
   "source": [
    "bundle = sequence_generator_bundle.read_bundle_file(BUNDLE)\n",
    "\n",
    "if bundle:\n",
    "    config_id = bundle.generator_details.id\n",
    "    config = melody_rnn_model.default_configs[config_id]\n",
    "    #\n",
    "    #  config.hparams.parse(FLAGS.hparams)\n",
    "    #\n",
    "else:\n",
    "    raise( FileNotFoundError )\n",
    "\n",
    "generator = melody_rnn_sequence_generator.MelodyRnnSequenceGenerator(\n",
    "      model=melody_rnn_model.MelodyRnnModel(config),\n",
    "      details=config.details,\n",
    "      steps_per_quarter=config.steps_per_quarter,\n",
    "      checkpoint=None,\n",
    "      bundle=bundle)"
   ]
  },
  {
   "cell_type": "markdown",
   "metadata": {},
   "source": [
    "The following values come from the tutorial at:\n",
    "\n",
    "https://www.twilio.com/blog/generate-music-python-neural-networks-magenta-tensorflow"
   ]
  },
  {
   "cell_type": "code",
   "execution_count": 8,
   "metadata": {},
   "outputs": [],
   "source": [
    "num_steps   = 128\n",
    "num_outputs =  10"
   ]
  },
  {
   "cell_type": "code",
   "execution_count": 9,
   "metadata": {},
   "outputs": [],
   "source": [
    "qpm = note_seq.DEFAULT_QUARTERS_PER_MINUTE"
   ]
  },
  {
   "cell_type": "code",
   "execution_count": 10,
   "metadata": {},
   "outputs": [],
   "source": [
    "primer_melody = note_seq.Melody([60])\n",
    "primer_sequence = primer_melody.to_sequence(qpm=qpm)\n",
    "\n",
    "# Set the start time to begin on the next step after the last note ends.\n",
    "if primer_sequence.notes:\n",
    "    last_end_time = max(n.end_time for n in primer_sequence.notes)\n",
    "else:\n",
    "    last_end_time = 0"
   ]
  },
  {
   "cell_type": "code",
   "execution_count": 11,
   "metadata": {},
   "outputs": [],
   "source": [
    "seconds_per_step = 60.0 / qpm / generator.steps_per_quarter\n",
    "total_seconds = num_steps * seconds_per_step"
   ]
  },
  {
   "cell_type": "code",
   "execution_count": 12,
   "metadata": {},
   "outputs": [],
   "source": [
    "generator_options = generator_pb2.GeneratorOptions()\n",
    "generate_section = generator_options.generate_sections.add(\n",
    "    start_time=last_end_time + seconds_per_step,\n",
    "    end_time=total_seconds)"
   ]
  },
  {
   "cell_type": "code",
   "execution_count": 13,
   "metadata": {},
   "outputs": [
    {
     "name": "stdout",
     "output_type": "stream",
     "text": [
      "WARNING:tensorflow:The saved meta_graph is possibly from an older release:\n",
      "'model_variables' collection should be of type 'byte_list', but instead is of type 'node_list'.\n",
      "INFO:tensorflow:Restoring parameters from /var/folders/k2/8pr51l7j7755kp97kf2g90340000gn/T/tmpnghp34ue/model.ckpt\n",
      "INFO:tensorflow:Beam search yields sequence with log-likelihood: -29.578857 \n",
      "INFO:tensorflow:Beam search yields sequence with log-likelihood: -135.626999 \n",
      "INFO:tensorflow:Beam search yields sequence with log-likelihood: -69.977089 \n",
      "INFO:tensorflow:Beam search yields sequence with log-likelihood: -199.255356 \n",
      "INFO:tensorflow:Beam search yields sequence with log-likelihood: -32.837231 \n",
      "INFO:tensorflow:Beam search yields sequence with log-likelihood: -139.124359 \n",
      "INFO:tensorflow:Beam search yields sequence with log-likelihood: -100.052811 \n",
      "INFO:tensorflow:Beam search yields sequence with log-likelihood: -69.580208 \n",
      "INFO:tensorflow:Beam search yields sequence with log-likelihood: -152.267914 \n",
      "INFO:tensorflow:Beam search yields sequence with log-likelihood: -44.340443 \n"
     ]
    }
   ],
   "source": [
    "# Make the generate request num_outputs times and save the output as midi\n",
    "# files.\n",
    "input_sequence = primer_sequence\n",
    "output_dir = OUTPUT_DIR\n",
    "date_and_time = time.strftime('%Y-%m-%d_%H%M%S')\n",
    "digits = len(str(num_outputs))\n",
    "for i in range(num_outputs):\n",
    "    generated_sequence = generator.generate(input_sequence, generator_options)\n",
    "\n",
    "    midi_filename = '%s_%s.mid' % (date_and_time, str(i + 1).zfill(digits))\n",
    "    midi_path = os.path.join(output_dir, midi_filename)\n",
    "    note_seq.sequence_proto_to_midi_file(generated_sequence, midi_path)"
   ]
  },
  {
   "cell_type": "code",
   "execution_count": null,
   "metadata": {},
   "outputs": [],
   "source": []
  }
 ],
 "metadata": {
  "jupytext": {
   "formats": "ipynb,py:percent,md"
  },
  "kernelspec": {
   "display_name": "Python [conda env:midi-data515-mag] *",
   "language": "python",
   "name": "conda-env-midi-data515-mag-py"
  },
  "language_info": {
   "codemirror_mode": {
    "name": "ipython",
    "version": 3
   },
   "file_extension": ".py",
   "mimetype": "text/x-python",
   "name": "python",
   "nbconvert_exporter": "python",
   "pygments_lexer": "ipython3",
   "version": "3.7.9"
  }
 },
 "nbformat": 4,
 "nbformat_minor": 4
}
