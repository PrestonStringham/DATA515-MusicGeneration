{
 "cells": [
  {
   "cell_type": "markdown",
   "metadata": {},
   "source": [
    "# Installation #\n",
    "Clone the repository to your local computer.\n",
    "\n",
    "<code>git clone https://github.com/PrestonStringham/DATA515-MusicGeneration</code>\n",
    "    \n",
    "Change directories to the local copy of the repo.\n",
    "\n",
    "<code>cd DATA515-MusicGeneration</code>\n",
    "    \n",
    "Install using the following PIP command line.\n",
    "\n",
    "<code>pip install .</code>"
   ]
  },
  {
   "cell_type": "markdown",
   "metadata": {},
   "source": [
    "# Import Packages"
   ]
  },
  {
   "cell_type": "code",
   "execution_count": 1,
   "metadata": {},
   "outputs": [],
   "source": [
    "import sys\n",
    "sys.path.append('../')\n",
    "from easy_music_generator import easy_music_generator as emg"
   ]
  },
  {
   "cell_type": "markdown",
   "metadata": {},
   "source": [
    "# Instantiate"
   ]
  },
  {
   "cell_type": "code",
   "execution_count": 2,
   "metadata": {},
   "outputs": [],
   "source": [
    "emg_obj = emg.EasyMusicGenerator()"
   ]
  },
  {
   "cell_type": "markdown",
   "metadata": {},
   "source": [
    "# Analyze Sample Files"
   ]
  },
  {
   "cell_type": "markdown",
   "metadata": {},
   "source": [
    "This analyzes the sample files provided by the user and assists the machine learning model in generating music files. The method expects a relative or exact input directory path.\n",
    "\n",
    "If you want to analyze your own MIDI or MusicXML files, you can replace the path below with one pointing to those files."
   ]
  },
  {
   "cell_type": "code",
   "execution_count": 3,
   "metadata": {},
   "outputs": [],
   "source": [
    "input_file_path = 'music/'"
   ]
  },
  {
   "cell_type": "code",
   "execution_count": 4,
   "metadata": {},
   "outputs": [],
   "source": [
    "emg_obj.analyze(input_file_path)"
   ]
  },
  {
   "cell_type": "markdown",
   "metadata": {},
   "source": [
    "# Generate"
   ]
  },
  {
   "cell_type": "markdown",
   "metadata": {},
   "source": [
    "The model takes the analyzed files and generates the music with some number of bars. In this case, 10 bars is used. This method expects 2 arguments. Namely, the number of bars and the directory where the model should output the files.\n",
    "\n",
    "You can select the length of the song by changing the number of bars below. In addition, you can modify the output directory of the file generated."
   ]
  },
  {
   "cell_type": "code",
   "execution_count": 5,
   "metadata": {},
   "outputs": [],
   "source": [
    "output_file_path = 'outut/'\n",
    "number_of_bars = 10\n",
    "emg_obj.generate(number_of_bars, output_file_path)"
   ]
  }
 ],
 "metadata": {
  "kernelspec": {
   "display_name": "Python 3",
   "language": "python",
   "name": "python3"
  },
  "language_info": {
   "codemirror_mode": {
    "name": "ipython",
    "version": 3
   },
   "file_extension": ".py",
   "mimetype": "text/x-python",
   "name": "python",
   "nbconvert_exporter": "python",
   "pygments_lexer": "ipython3",
   "version": "3.8.5"
  }
 },
 "nbformat": 4,
 "nbformat_minor": 4
}
